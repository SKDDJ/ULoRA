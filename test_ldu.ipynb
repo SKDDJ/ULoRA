{
 "cells": [
  {
   "cell_type": "code",
   "execution_count": 1,
   "metadata": {},
   "outputs": [],
   "source": [
    "import torch\n"
   ]
  },
  {
   "cell_type": "code",
   "execution_count": 33,
   "metadata": {},
   "outputs": [
    {
     "name": "stdout",
     "output_type": "stream",
     "text": [
      "A: tensor([[ 4.,  7., 11., 19.]])\n"
     ]
    }
   ],
   "source": [
    "\n",
    "# A = torch.randn(4, 4)\n",
    "# make A a matrix not a random one\n",
    "# A = torch.tensor([[1, 2, 3, 4], [5, 6, 7, 8], [9, 10, 11, 12], [13, 14, 15, 16]], dtype=torch.float32)\n",
    "A = torch.tensor([[ 2, 3, 4], [ 6, 7, 8], [ 10, 11, 12], [13,  15, 16]], dtype=torch.float32)\n",
    "# A = torch.tensor([[  4], [  7], [  11], [ 19]], dtype=torch.float32)\n",
    "# A = torch.tensor([[4,7, 11, 19]], dtype=torch.float32)\n",
    "# A = torch.tensor([ [5, 6, 7, 8], [9, 10, 11, 12], [13, 14, 15, 16]], dtype=torch.float32)\n",
    "\n",
    "\n",
    "\n",
    "P, L, U = torch.linalg.lu(A)\n",
    "\n",
    "print(f\"A: {A}\")\n"
   ]
  },
  {
   "cell_type": "code",
   "execution_count": 34,
   "metadata": {},
   "outputs": [
    {
     "name": "stdout",
     "output_type": "stream",
     "text": [
      "P: tensor([[1.]])\n",
      "Pshape: torch.Size([1, 1])\n"
     ]
    }
   ],
   "source": [
    "print(f\"P: {P}\")\n",
    "print(f\"Pshape: {P.shape}\")\n"
   ]
  },
  {
   "cell_type": "code",
   "execution_count": 35,
   "metadata": {},
   "outputs": [
    {
     "name": "stdout",
     "output_type": "stream",
     "text": [
      "torch.Size([1, 4])\n"
     ]
    }
   ],
   "source": [
    "print(A.shape)\n"
   ]
  },
  {
   "cell_type": "code",
   "execution_count": 4,
   "metadata": {},
   "outputs": [
    {
     "data": {
      "text/plain": [
       "tensor(9.5367e-07)"
      ]
     },
     "execution_count": 4,
     "metadata": {},
     "output_type": "execute_result"
    }
   ],
   "source": [
    "torch.dist(A, P @ L @ U)\n"
   ]
  },
  {
   "cell_type": "code",
   "execution_count": 5,
   "metadata": {},
   "outputs": [
    {
     "name": "stdout",
     "output_type": "stream",
     "text": [
      "D: tensor([ 1.3000e+01,  9.2308e-01,  1.9868e-07, -9.1699e-08])\n"
     ]
    }
   ],
   "source": [
    "D = torch.diagonal(U)\n",
    "print(f\"D: {D}\")\n"
   ]
  },
  {
   "cell_type": "code",
   "execution_count": 6,
   "metadata": {},
   "outputs": [
    {
     "name": "stdout",
     "output_type": "stream",
     "text": [
      "The rank of the matrix is: 2\n"
     ]
    }
   ],
   "source": [
    "# Determine the rank by counting how many elements are greater than 1e-6\n",
    "# Define the threshold\n",
    "threshold = 1e-5\n",
    "\n",
    "# Calculate the rank based on the threshold\n",
    "rank = torch.sum(torch.abs(D) >= threshold).item()\n",
    "print(f\"The rank of the matrix is: {rank}\")\n"
   ]
  },
  {
   "cell_type": "code",
   "execution_count": 7,
   "metadata": {},
   "outputs": [
    {
     "name": "stdout",
     "output_type": "stream",
     "text": [
      "U_normalized: tensor([[1.0000, 1.0769, 1.1538, 1.2308],\n",
      "        [0.0000, 1.0000, 2.0000, 3.0000],\n",
      "        [0.0000, 0.0000, 1.0000, 2.0000],\n",
      "        [-0.0000, -0.0000, -0.0000, 1.0000]])\n"
     ]
    }
   ],
   "source": [
    "U = U / D.unsqueeze(-1)\n",
    "print(f\"U_normalized: {U}\")\n"
   ]
  },
  {
   "cell_type": "code",
   "execution_count": 8,
   "metadata": {},
   "outputs": [
    {
     "data": {
      "text/plain": [
       "tensor(1.4305e-06)"
      ]
     },
     "execution_count": 8,
     "metadata": {},
     "output_type": "execute_result"
    }
   ],
   "source": [
    "torch.dist(P@L@torch.diag(D)@U, A)\n"
   ]
  },
  {
   "cell_type": "code",
   "execution_count": 9,
   "metadata": {},
   "outputs": [
    {
     "name": "stdout",
     "output_type": "stream",
     "text": [
      "P@L@torch.diag(D)@U_normalized: tensor([[ 1.0000,  2.0000,  3.0000,  4.0000],\n",
      "        [ 5.0000,  6.0000,  7.0000,  8.0000],\n",
      "        [ 9.0000, 10.0000, 11.0000, 12.0000],\n",
      "        [13.0000, 14.0000, 15.0000, 16.0000]])\n"
     ]
    }
   ],
   "source": [
    "print(f\"P@L@torch.diag(D)@U_normalized: {P@L@torch.diag(D)@U}\")\n"
   ]
  },
  {
   "cell_type": "code",
   "execution_count": 10,
   "metadata": {},
   "outputs": [],
   "source": [
    "r = 2\n",
    "\n",
    "L_r = L[:, :r]\n",
    "D_r = D[:r]\n",
    "U_r = U[:r, :]\n"
   ]
  },
  {
   "cell_type": "code",
   "execution_count": 11,
   "metadata": {},
   "outputs": [
    {
     "name": "stdout",
     "output_type": "stream",
     "text": [
      "L: tensor([[1.0000, 0.0000, 0.0000, 0.0000],\n",
      "        [0.0769, 1.0000, 0.0000, 0.0000],\n",
      "        [0.6923, 0.3333, 1.0000, 0.0000],\n",
      "        [0.3846, 0.6667, 0.5231, 1.0000]])\n",
      "D: tensor([ 1.3000e+01,  9.2308e-01,  1.9868e-07, -9.1699e-08])\n",
      "U: tensor([[1.0000, 1.0769, 1.1538, 1.2308],\n",
      "        [0.0000, 1.0000, 2.0000, 3.0000],\n",
      "        [0.0000, 0.0000, 1.0000, 2.0000],\n",
      "        [-0.0000, -0.0000, -0.0000, 1.0000]])\n"
     ]
    }
   ],
   "source": [
    "print(f\"L: {L}\")\n",
    "print(f\"D: {D}\")\n",
    "print(f\"U: {U}\")\n"
   ]
  },
  {
   "cell_type": "code",
   "execution_count": 12,
   "metadata": {},
   "outputs": [
    {
     "name": "stdout",
     "output_type": "stream",
     "text": [
      "L shape: torch.Size([4, 4])\n",
      "D shape: torch.Size([4])\n",
      "U shape: torch.Size([4, 4])\n"
     ]
    }
   ],
   "source": [
    "# print shape\n",
    "print(f\"L shape: {L.shape}\")\n",
    "print(f\"D shape: {D.shape}\")\n",
    "print(f\"U shape: {U.shape}\")\n"
   ]
  },
  {
   "cell_type": "code",
   "execution_count": 13,
   "metadata": {},
   "outputs": [
    {
     "name": "stdout",
     "output_type": "stream",
     "text": [
      "P@L@torch.diag(D)@U: tensor([[ 1.0000,  2.0000,  3.0000,  4.0000],\n",
      "        [ 5.0000,  6.0000,  7.0000,  8.0000],\n",
      "        [ 9.0000, 10.0000, 11.0000, 12.0000],\n",
      "        [13.0000, 14.0000, 15.0000, 16.0000]])\n"
     ]
    }
   ],
   "source": [
    "print(f\"P@L@torch.diag(D)@U: {P@L@torch.diag(D)@U}\")\n"
   ]
  },
  {
   "cell_type": "code",
   "execution_count": 14,
   "metadata": {},
   "outputs": [
    {
     "name": "stdout",
     "output_type": "stream",
     "text": [
      "L_r: tensor([[1.0000, 0.0000],\n",
      "        [0.0769, 1.0000],\n",
      "        [0.6923, 0.3333],\n",
      "        [0.3846, 0.6667]])\n",
      "D_r: tensor([13.0000,  0.9231])\n",
      "U_r: tensor([[1.0000, 1.0769, 1.1538, 1.2308],\n",
      "        [0.0000, 1.0000, 2.0000, 3.0000]])\n"
     ]
    }
   ],
   "source": [
    "print(f\"L_r: {L_r}\")\n",
    "print(f\"D_r: {D_r}\")\n",
    "print(f\"U_r: {U_r}\")\n"
   ]
  },
  {
   "cell_type": "code",
   "execution_count": 15,
   "metadata": {},
   "outputs": [
    {
     "name": "stdout",
     "output_type": "stream",
     "text": [
      "L_r shape: torch.Size([4, 2])\n",
      "D_r shape: torch.Size([2])\n",
      "U_r shape: torch.Size([2, 4])\n"
     ]
    }
   ],
   "source": [
    "# print shape\n",
    "print(f\"L_r shape: {L_r.shape}\")\n",
    "print(f\"D_r shape: {D_r.shape}\")\n",
    "print(f\"U_r shape: {U_r.shape}\")\n"
   ]
  },
  {
   "cell_type": "code",
   "execution_count": 16,
   "metadata": {},
   "outputs": [
    {
     "name": "stdout",
     "output_type": "stream",
     "text": [
      "P@L_r@D_r@U_r: tensor([[ 1.0000,  2.0000,  3.0000,  4.0000],\n",
      "        [ 5.0000,  6.0000,  7.0000,  8.0000],\n",
      "        [ 9.0000, 10.0000, 11.0000, 12.0000],\n",
      "        [13.0000, 14.0000, 15.0000, 16.0000]])\n"
     ]
    }
   ],
   "source": [
    "print(f\"P@L_r@D_r@U_r: {P@L_r@torch.diag(D_r)@U_r}\")\n"
   ]
  },
  {
   "cell_type": "code",
   "execution_count": 17,
   "metadata": {},
   "outputs": [
    {
     "data": {
      "text/plain": [
       "tensor(1.4305e-06)"
      ]
     },
     "execution_count": 17,
     "metadata": {},
     "output_type": "execute_result"
    }
   ],
   "source": [
    "torch.dist(P@L_r@torch.diag(D_r)@U_r, A)\n"
   ]
  },
  {
   "cell_type": "code",
   "execution_count": 18,
   "metadata": {},
   "outputs": [
    {
     "data": {
      "text/plain": [
       "tensor(1.4305e-06)"
      ]
     },
     "execution_count": 18,
     "metadata": {},
     "output_type": "execute_result"
    }
   ],
   "source": [
    "torch.dist(P@L@torch.diag(D)@U, A)\n"
   ]
  },
  {
   "cell_type": "code",
   "execution_count": 19,
   "metadata": {},
   "outputs": [
    {
     "name": "stdout",
     "output_type": "stream",
     "text": [
      "A_norm: 38.678157806396484\n"
     ]
    }
   ],
   "source": [
    "# calculate the norm of A\n",
    "A_norm = torch.norm(A, p='fro')\n",
    "print(f\"A_norm: {A_norm}\")\n"
   ]
  },
  {
   "cell_type": "code",
   "execution_count": 20,
   "metadata": {},
   "outputs": [],
   "source": [
    "# wrong code\n",
    "# L_adjusted = L @ torch.diag(1 / D)\n",
    "# print(f\"L_adjusted: {L_adjusted}\")\n"
   ]
  },
  {
   "cell_type": "code",
   "execution_count": 21,
   "metadata": {},
   "outputs": [],
   "source": [
    "\n",
    "# A = torch.randn(2, 5, 7, device=\"cuda\")\n",
    "# P, L, U = torch.linalg.lu(A, pivot=False)\n",
    "# P\n",
    "# torch.dist(A, L @ U)\n"
   ]
  }
 ],
 "metadata": {
  "kernelspec": {
   "display_name": "sara",
   "language": "python",
   "name": "python3"
  },
  "language_info": {
   "codemirror_mode": {
    "name": "ipython",
    "version": 3
   },
   "file_extension": ".py",
   "mimetype": "text/x-python",
   "name": "python",
   "nbconvert_exporter": "python",
   "pygments_lexer": "ipython3",
   "version": "3.10.14"
  }
 },
 "nbformat": 4,
 "nbformat_minor": 2
}
