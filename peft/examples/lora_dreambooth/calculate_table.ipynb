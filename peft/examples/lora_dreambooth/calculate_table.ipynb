{
 "cells": [
  {
   "cell_type": "markdown",
   "metadata": {},
   "source": [
    "base"
   ]
  },
  {
   "cell_type": "code",
   "execution_count": 3,
   "metadata": {},
   "outputs": [
    {
     "name": "stdout",
     "output_type": "stream",
     "text": [
      "Row Average:\n",
      "80.30\n",
      "81.98\n",
      "82.58\n",
      "78.06\n",
      "72.53\n",
      "69.29\n",
      "30.07\n",
      "9.69\n"
     ]
    }
   ],
   "source": [
    "data = [\n",
    "    [42.75, 64.08, 96.86, 85.09, 67.13, 98.78, 98.92, 88.83],\n",
    "    [43.29, 66.52, 98.15, 88.16, 70.37, 99.11, 99.02, 91.20],\n",
    "    [43.02, 67.93, 98.44, 89.16, 72.61, 99.04, 98.82, 91.66],\n",
    "    [28.29, 50.13, 98.25, 90.72, 69.10, 97.46, 98.43, 92.07],\n",
    "    [21.66, 29.23, 97.65, 88.51, 61.12, 93.81, 97.45, 90.79],\n",
    "    [18.27, 23.14, 97.30, 86.81, 54.36, 90.62, 93.92, 89.92],\n",
    "    [2.25, 2.00, 93.95, 67.91, 2.77, 58.53, 0.69, 12.43],\n",
    "    [1.32, 0.67, 43.49, 8.04, 2.07, 17.47, 0.39, 4.09]\n",
    "]\n",
    "\n",
    "# Calculate the row averages\n",
    "row_averages = [sum(row) / len(row) for row in data]\n",
    "\n",
    "# Print the row averages\n",
    "print(\"Row Average:\")\n",
    "for avg in row_averages:\n",
    "    print(f\"{avg:.2f}\")\n"
   ]
  },
  {
   "cell_type": "markdown",
   "metadata": {},
   "source": [
    "large"
   ]
  },
  {
   "cell_type": "code",
   "execution_count": 4,
   "metadata": {},
   "outputs": [
    {
     "name": "stdout",
     "output_type": "stream",
     "text": [
      "Row Average:\n",
      "75.36\n",
      "78.95\n",
      "78.98\n",
      "75.84\n",
      "69.63\n",
      "66.54\n",
      "28.45\n",
      "11.97\n"
     ]
    }
   ],
   "source": [
    "data = [\n",
    "    [35.25, 47.73, 96.04, 79.48, 64.89, 98.31, 97.45, 83.76],\n",
    "    [32.34, 58.86, 98.11, 89.46, 66.44, 98.87, 97.94, 89.60],\n",
    "    [33.03, 58.41, 98.36, 89.74, 67.61, 98.86, 98.33, 87.54],\n",
    "    [23.76, 45.75, 98.10, 90.07, 66.01, 97.39, 97.65, 87.95],\n",
    "    [15.03, 23.14, 97.36, 87.83, 58.30, 94.17, 96.08, 85.12],\n",
    "    [12.87, 19.34, 97.15, 86.25, 50.05, 91.56, 91.76, 83.35],\n",
    "    [1.29, 2.65, 93.03, 66.59, 2.98, 58.17, 1.86, 1.06],\n",
    "    [0.78, 0.88, 56.93, 8.34, 2.23, 21.39, 1.57, 3.65]\n",
    "]\n",
    "\n",
    "# Calculate the row averages\n",
    "row_averages = [sum(row) / len(row) for row in data]\n",
    "\n",
    "# Print the row averages\n",
    "print(\"Row Average:\")\n",
    "for avg in row_averages:\n",
    "    print(f\"{avg:.2f}\")\n"
   ]
  },
  {
   "cell_type": "markdown",
   "metadata": {},
   "source": [
    "init"
   ]
  },
  {
   "cell_type": "code",
   "execution_count": 6,
   "metadata": {},
   "outputs": [
    {
     "name": "stdout",
     "output_type": "stream",
     "text": [
      "Row Average:\n",
      "82.96\n",
      "45.24\n",
      "47.27\n",
      "36.51\n",
      "80.73\n"
     ]
    }
   ],
   "source": [
    "data = [\n",
    "    [43.29, 67.93, 98.44, 90.72, 72.77, 99.11, 99.02, 92.40],\n",
    "    [11.01, 10.86, 69.17, 46.65, 47.07, 95.27, 49.31, 32.57],\n",
    "    [11.31, 13.13, 76.35, 50.22, 46.22, 95.96, 53.14, 31.83],\n",
    "    [8.55, 7.01, 58.00, 34.08, 39.84, 89.47, 37.16, 17.96],\n",
    "    [36.99, 64.78, 98.35, 89.51, 69.15, 99.07, 97.35, 90.68]\n",
    "]\n",
    "\n",
    "# Calculate the row averages\n",
    "row_averages = [sum(row) / len(row) for row in data]\n",
    "\n",
    "# Print the row averages\n",
    "print(\"Row Average:\")\n",
    "for avg in row_averages:\n",
    "    print(f\"{avg:.2f}\")\n"
   ]
  },
  {
   "cell_type": "code",
   "execution_count": null,
   "metadata": {},
   "outputs": [],
   "source": []
  }
 ],
 "metadata": {
  "kernelspec": {
   "display_name": "dreambooth",
   "language": "python",
   "name": "python3"
  },
  "language_info": {
   "codemirror_mode": {
    "name": "ipython",
    "version": 3
   },
   "file_extension": ".py",
   "mimetype": "text/x-python",
   "name": "python",
   "nbconvert_exporter": "python",
   "pygments_lexer": "ipython3",
   "version": "3.10.0"
  }
 },
 "nbformat": 4,
 "nbformat_minor": 2
}
