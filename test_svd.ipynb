{
 "cells": [
  {
   "cell_type": "code",
   "execution_count": 13,
   "metadata": {},
   "outputs": [],
   "source": [
    "import torch\n"
   ]
  },
  {
   "cell_type": "code",
   "execution_count": 14,
   "metadata": {},
   "outputs": [
    {
     "name": "stdout",
     "output_type": "stream",
     "text": [
      "A: tensor([[ 1.,  2.,  3.,  4.],\n",
      "        [ 5.,  6.,  7.,  8.],\n",
      "        [ 9., 10., 11., 12.],\n",
      "        [13., 14., 15., 16.]])\n"
     ]
    }
   ],
   "source": [
    "\n",
    "# A = torch.randn(4, 3)\n",
    "A = torch.tensor([[1, 2, 3, 4], [5, 6, 7, 8], [9, 10, 11, 12], [13, 14, 15, 16]], dtype=torch.float32)\n",
    "\n",
    "r=2\n",
    "\n",
    "# V, S, Uh = torch.linalg.svd(A, full_matrices=False) # 他妈的误导我！ \n",
    "\n",
    "U, S, Vh = torch.linalg.svd(A, full_matrices=False)\n",
    "Ur = U[:, : r]\n",
    "Sr = S[: r]\n",
    "Vhr = Vh[: r]\n",
    "\n",
    "print(f\"A: {A}\")\n"
   ]
  },
  {
   "cell_type": "code",
   "execution_count": 15,
   "metadata": {},
   "outputs": [
    {
     "name": "stdout",
     "output_type": "stream",
     "text": [
      "U: torch.Size([4, 4])\n",
      "S: torch.Size([4])\n",
      "Vh: torch.Size([4, 4])\n"
     ]
    }
   ],
   "source": [
    "# print shape\n",
    "print(f\"U: {U.shape}\")\n",
    "print(f\"S: {S.shape}\")\n",
    "print(f\"Vh: {Vh.shape}\")\n"
   ]
  },
  {
   "cell_type": "code",
   "execution_count": 16,
   "metadata": {},
   "outputs": [
    {
     "name": "stdout",
     "output_type": "stream",
     "text": [
      "Ur: torch.Size([4, 2])\n",
      "Sr: torch.Size([2])\n",
      "Vhr: torch.Size([2, 4])\n"
     ]
    }
   ],
   "source": [
    "# print shape\n",
    "print(f\"Ur: {Ur.shape}\")\n",
    "print(f\"Sr: {Sr.shape}\")\n",
    "print(f\"Vhr: {Vhr.shape}\")\n"
   ]
  },
  {
   "cell_type": "code",
   "execution_count": 17,
   "metadata": {},
   "outputs": [
    {
     "data": {
      "text/plain": [
       "tensor(1.5266e-05)"
      ]
     },
     "execution_count": 17,
     "metadata": {},
     "output_type": "execute_result"
    }
   ],
   "source": [
    "# torch.dist(A, Uh @ S @ V)\n",
    "# torch.dist(A, Vhr @ torch.diag(Sr) @ Ur) # tensor(1.6237) Wrong code !\n",
    "torch.dist(A, Ur @ torch.diag(Sr) @ Vhr) # tensor(1.6237)\n",
    "\n"
   ]
  },
  {
   "cell_type": "code",
   "execution_count": 18,
   "metadata": {},
   "outputs": [
    {
     "data": {
      "text/plain": [
       "tensor(1.5250e-05)"
      ]
     },
     "execution_count": 18,
     "metadata": {},
     "output_type": "execute_result"
    }
   ],
   "source": [
    "torch.dist(A, U @ torch.diag(S) @ Vh ) # tensor(2.4942e-06)\n"
   ]
  },
  {
   "cell_type": "code",
   "execution_count": 19,
   "metadata": {},
   "outputs": [
    {
     "name": "stdout",
     "output_type": "stream",
     "text": [
      "A_norm: 38.678157806396484\n"
     ]
    }
   ],
   "source": [
    "# calculate the norm of A\n",
    "A_norm = torch.norm(A, p='fro')\n",
    "print(f\"A_norm: {A_norm}\")\n"
   ]
  },
  {
   "cell_type": "code",
   "execution_count": 20,
   "metadata": {},
   "outputs": [
    {
     "name": "stdout",
     "output_type": "stream",
     "text": [
      "U: tensor([[-0.1347, -0.8257,  0.5471, -0.0251],\n",
      "        [-0.3408, -0.4288, -0.7109,  0.4412],\n",
      "        [-0.5468, -0.0319, -0.2197, -0.8073],\n",
      "        [-0.7528,  0.3650,  0.3834,  0.3911]])\n",
      "S: tensor([3.8623e+01, 2.0713e+00, 1.2961e-06, 9.0846e-08])\n",
      "Vh: tensor([[-0.4284, -0.4744, -0.5203, -0.5663],\n",
      "        [ 0.7187,  0.2738, -0.1710, -0.6159],\n",
      "        [-0.4408,  0.8301, -0.3376, -0.0516],\n",
      "        [-0.3250,  0.1048,  0.7655, -0.5453]])\n"
     ]
    }
   ],
   "source": [
    "print(f\"U: {U}\")\n",
    "print(f\"S: {S}\")\n",
    "print(f\"Vh: {Vh}\")\n"
   ]
  },
  {
   "cell_type": "code",
   "execution_count": 21,
   "metadata": {},
   "outputs": [
    {
     "name": "stdout",
     "output_type": "stream",
     "text": [
      "The rank of the matrix is: 2\n"
     ]
    }
   ],
   "source": [
    "# Determine the rank by counting how many elements are greater than 1e-6\n",
    "# Define the threshold\n",
    "threshold = 1e-5\n",
    "\n",
    "# Calculate the rank based on the threshold\n",
    "rank = torch.sum(S >= threshold).item()\n",
    "print(f\"The rank of the matrix is: {rank}\")\n"
   ]
  },
  {
   "cell_type": "code",
   "execution_count": 22,
   "metadata": {},
   "outputs": [
    {
     "name": "stdout",
     "output_type": "stream",
     "text": [
      "Ur: tensor([[-0.1347, -0.8257],\n",
      "        [-0.3408, -0.4288],\n",
      "        [-0.5468, -0.0319],\n",
      "        [-0.7528,  0.3650]])\n",
      "Sr: tensor([38.6227,  2.0713])\n",
      "Vhr: tensor([[-0.4284, -0.4744, -0.5203, -0.5663],\n",
      "        [ 0.7187,  0.2738, -0.1710, -0.6159]])\n"
     ]
    }
   ],
   "source": [
    "print(f\"Ur: {Ur}\")\n",
    "print(f\"Sr: {Sr}\")\n",
    "print(f\"Vhr: {Vhr}\")\n"
   ]
  },
  {
   "cell_type": "code",
   "execution_count": null,
   "metadata": {},
   "outputs": [],
   "source": []
  },
  {
   "cell_type": "code",
   "execution_count": null,
   "metadata": {},
   "outputs": [],
   "source": []
  },
  {
   "cell_type": "code",
   "execution_count": null,
   "metadata": {},
   "outputs": [],
   "source": []
  },
  {
   "cell_type": "code",
   "execution_count": null,
   "metadata": {},
   "outputs": [],
   "source": []
  },
  {
   "cell_type": "code",
   "execution_count": null,
   "metadata": {},
   "outputs": [],
   "source": []
  },
  {
   "cell_type": "code",
   "execution_count": null,
   "metadata": {},
   "outputs": [],
   "source": []
  },
  {
   "cell_type": "code",
   "execution_count": null,
   "metadata": {},
   "outputs": [],
   "source": []
  },
  {
   "cell_type": "code",
   "execution_count": null,
   "metadata": {},
   "outputs": [],
   "source": []
  },
  {
   "cell_type": "code",
   "execution_count": null,
   "metadata": {},
   "outputs": [],
   "source": []
  },
  {
   "cell_type": "code",
   "execution_count": 23,
   "metadata": {},
   "outputs": [],
   "source": [
    "# wrong code\n",
    "# L_adjusted = L @ torch.diag(1 / D)\n",
    "# print(f\"L_adjusted: {L_adjusted}\")\n"
   ]
  },
  {
   "cell_type": "code",
   "execution_count": 24,
   "metadata": {},
   "outputs": [],
   "source": [
    "\n",
    "# A = torch.randn(2, 5, 7, device=\"cuda\")\n",
    "# P, L, U = torch.linalg.lu(A, pivot=False)\n",
    "# P\n",
    "# torch.dist(A, L @ U)\n"
   ]
  }
 ],
 "metadata": {
  "kernelspec": {
   "display_name": "sara",
   "language": "python",
   "name": "python3"
  },
  "language_info": {
   "codemirror_mode": {
    "name": "ipython",
    "version": 3
   },
   "file_extension": ".py",
   "mimetype": "text/x-python",
   "name": "python",
   "nbconvert_exporter": "python",
   "pygments_lexer": "ipython3",
   "version": "3.10.14"
  }
 },
 "nbformat": 4,
 "nbformat_minor": 2
}
